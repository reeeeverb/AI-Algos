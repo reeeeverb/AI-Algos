{
 "cells": [
  {
   "cell_type": "code",
   "execution_count": 1,
   "id": "3c66a1bf-56e2-4ae6-90de-42b2e68d024b",
   "metadata": {},
   "outputs": [],
   "source": [
    "import numpy as np"
   ]
  },
  {
   "cell_type": "code",
   "execution_count": 86,
   "id": "013ee760-f3f6-4332-9155-06dae0e57676",
   "metadata": {},
   "outputs": [],
   "source": [
    "class TicTacToe():\n",
    "    def __init__(self):\n",
    "        self.reset()\n",
    "    \n",
    "    def reset(self):\n",
    "        self.state = [0]*9\n",
    "        self.turn = 1\n",
    "        self.done = False\n",
    "        return self.state\n",
    "        \n",
    "    def render(self):\n",
    "        return np.array(self.state).reshape(3,3)\n",
    "        \n",
    "    def is_winner(self):\n",
    "        s = self.state\n",
    "        for i in range(3):\n",
    "            if all([x==self.turn for x in [s[i], s[3+i], s[6+1]]]):\n",
    "                return True\n",
    "            if all([x==self.turn for x in s[3*i:3*i+3]]):\n",
    "                return True\n",
    "        if all([x==self.turn for x in [s[0], s[4], s[8]]]):\n",
    "            return True\n",
    "        if all([x==self.turn for x in [s[2], s[4], s[6]]]):\n",
    "            return True\n",
    "        return False\n",
    "        \n",
    "    def step(self,act):\n",
    "        rew = 0\n",
    "        s = self.state\n",
    "        if s[act] != 0:\n",
    "            rew = -1\n",
    "            self.done = True\n",
    "        else:\n",
    "            s[act] = self.turn\n",
    "            if self.is_winner():\n",
    "                rew = 1\n",
    "                self.done = True\n",
    "            else:\n",
    "                self.turn = -self.turn\n",
    "        return self.render(),self.done,rew\n",
    "            \n",
    "    "
   ]
  },
  {
   "cell_type": "code",
   "execution_count": 87,
   "id": "aad23c1a-447e-4564-8432-9683038922a5",
   "metadata": {},
   "outputs": [],
   "source": [
    "env = TicTacToe()"
   ]
  },
  {
   "cell_type": "code",
   "execution_count": 88,
   "id": "80389fb4-a86f-476b-a3b8-c9d3ed39f3da",
   "metadata": {},
   "outputs": [
    {
     "data": {
      "text/plain": [
       "[0, 0, 0, 0, 0, 0, 0, 0, 0]"
      ]
     },
     "execution_count": 88,
     "metadata": {},
     "output_type": "execute_result"
    }
   ],
   "source": [
    "env.reset()"
   ]
  },
  {
   "cell_type": "code",
   "execution_count": 89,
   "id": "38e339e3-f8db-4fa5-925b-d28b586e6879",
   "metadata": {},
   "outputs": [
    {
     "data": {
      "text/plain": [
       "(array([[0, 0, 0],\n",
       "        [0, 1, 0],\n",
       "        [0, 0, 0]]),\n",
       " False,\n",
       " 0)"
      ]
     },
     "execution_count": 89,
     "metadata": {},
     "output_type": "execute_result"
    }
   ],
   "source": [
    "env.step(4)"
   ]
  },
  {
   "cell_type": "code",
   "execution_count": 90,
   "id": "218ff885-a9a7-49b8-8684-2f5b2ec3e973",
   "metadata": {},
   "outputs": [
    {
     "data": {
      "text/plain": [
       "(array([[ 0, -1,  0],\n",
       "        [ 0,  1,  0],\n",
       "        [ 0,  0,  0]]),\n",
       " False,\n",
       " 0)"
      ]
     },
     "execution_count": 90,
     "metadata": {},
     "output_type": "execute_result"
    }
   ],
   "source": [
    "env.step(1)"
   ]
  },
  {
   "cell_type": "code",
   "execution_count": 91,
   "id": "c19a877e-6875-43e8-be17-9e87f7edb26b",
   "metadata": {},
   "outputs": [
    {
     "data": {
      "text/plain": [
       "(array([[-1, -1,  0],\n",
       "        [ 1,  1,  1],\n",
       "        [ 0,  0,  0]]),\n",
       " True,\n",
       " 1)"
      ]
     },
     "execution_count": 91,
     "metadata": {},
     "output_type": "execute_result"
    }
   ],
   "source": [
    "env.step(3)\n",
    "env.step(0)\n",
    "env.step(5)"
   ]
  },
  {
   "cell_type": "code",
   "execution_count": null,
   "id": "be077364-76ba-4860-bb11-30e14c991b1b",
   "metadata": {},
   "outputs": [],
   "source": []
  }
 ],
 "metadata": {
  "kernelspec": {
   "display_name": "Python 3 (ipykernel)",
   "language": "python",
   "name": "python3"
  },
  "language_info": {
   "codemirror_mode": {
    "name": "ipython",
    "version": 3
   },
   "file_extension": ".py",
   "mimetype": "text/x-python",
   "name": "python",
   "nbconvert_exporter": "python",
   "pygments_lexer": "ipython3",
   "version": "3.8.10"
  }
 },
 "nbformat": 4,
 "nbformat_minor": 5
}
