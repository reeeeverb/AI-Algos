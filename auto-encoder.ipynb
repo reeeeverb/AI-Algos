{
 "cells": [
  {
   "cell_type": "code",
   "execution_count": 1,
   "id": "ee08539b-c025-4610-9fe6-9a7c7325152c",
   "metadata": {
    "scrolled": true,
    "tags": []
   },
   "outputs": [
    {
     "name": "stdout",
     "output_type": "stream",
     "text": [
      "Defaulting to user installation because normal site-packages is not writeable\n",
      "Requirement already satisfied: pytorch_lightning in /home/skyhlar/.local/lib/python3.8/site-packages (2.0.1.post0)\n",
      "Requirement already satisfied: typing-extensions>=4.0.0 in /home/skyhlar/.local/lib/python3.8/site-packages (from pytorch_lightning) (4.4.0)\n",
      "Requirement already satisfied: torch>=1.11.0 in /home/skyhlar/.local/lib/python3.8/site-packages (from pytorch_lightning) (1.13.1)\n",
      "Requirement already satisfied: fsspec[http]>2021.06.0 in /home/skyhlar/.local/lib/python3.8/site-packages (from pytorch_lightning) (2022.11.0)\n",
      "Requirement already satisfied: packaging>=17.1 in /home/skyhlar/.local/lib/python3.8/site-packages (from pytorch_lightning) (21.3)\n",
      "Requirement already satisfied: numpy>=1.17.2 in /home/skyhlar/.local/lib/python3.8/site-packages (from pytorch_lightning) (1.23.5)\n",
      "Requirement already satisfied: lightning-utilities>=0.7.0 in /home/skyhlar/.local/lib/python3.8/site-packages (from pytorch_lightning) (0.8.0)\n",
      "Requirement already satisfied: tqdm>=4.57.0 in /home/skyhlar/.local/lib/python3.8/site-packages (from pytorch_lightning) (4.64.1)\n",
      "Requirement already satisfied: PyYAML>=5.4 in /home/skyhlar/.local/lib/python3.8/site-packages (from pytorch_lightning) (6.0)\n",
      "Requirement already satisfied: torchmetrics>=0.7.0 in /home/skyhlar/.local/lib/python3.8/site-packages (from pytorch_lightning) (0.11.4)\n",
      "Requirement already satisfied: requests in /home/skyhlar/.local/lib/python3.8/site-packages (from fsspec[http]>2021.06.0->pytorch_lightning) (2.28.1)\n",
      "Requirement already satisfied: aiohttp!=4.0.0a0,!=4.0.0a1 in /home/skyhlar/.local/lib/python3.8/site-packages (from fsspec[http]>2021.06.0->pytorch_lightning) (3.8.3)\n",
      "Requirement already satisfied: pyparsing!=3.0.5,>=2.0.2 in /home/skyhlar/.local/lib/python3.8/site-packages (from packaging>=17.1->pytorch_lightning) (3.0.9)\n",
      "Requirement already satisfied: nvidia-cublas-cu11==11.10.3.66 in /home/skyhlar/.local/lib/python3.8/site-packages (from torch>=1.11.0->pytorch_lightning) (11.10.3.66)\n",
      "Requirement already satisfied: nvidia-cuda-nvrtc-cu11==11.7.99 in /home/skyhlar/.local/lib/python3.8/site-packages (from torch>=1.11.0->pytorch_lightning) (11.7.99)\n",
      "Requirement already satisfied: nvidia-cudnn-cu11==8.5.0.96 in /home/skyhlar/.local/lib/python3.8/site-packages (from torch>=1.11.0->pytorch_lightning) (8.5.0.96)\n",
      "Requirement already satisfied: nvidia-cuda-runtime-cu11==11.7.99 in /home/skyhlar/.local/lib/python3.8/site-packages (from torch>=1.11.0->pytorch_lightning) (11.7.99)\n",
      "Requirement already satisfied: setuptools in /home/skyhlar/.local/lib/python3.8/site-packages (from nvidia-cublas-cu11==11.10.3.66->torch>=1.11.0->pytorch_lightning) (66.1.1)\n",
      "Requirement already satisfied: wheel in /usr/lib/python3/dist-packages (from nvidia-cublas-cu11==11.10.3.66->torch>=1.11.0->pytorch_lightning) (0.34.2)\n",
      "Requirement already satisfied: charset-normalizer<3.0,>=2.0 in /home/skyhlar/.local/lib/python3.8/site-packages (from aiohttp!=4.0.0a0,!=4.0.0a1->fsspec[http]>2021.06.0->pytorch_lightning) (2.1.1)\n",
      "Requirement already satisfied: multidict<7.0,>=4.5 in /home/skyhlar/.local/lib/python3.8/site-packages (from aiohttp!=4.0.0a0,!=4.0.0a1->fsspec[http]>2021.06.0->pytorch_lightning) (6.0.4)\n",
      "Requirement already satisfied: attrs>=17.3.0 in /home/skyhlar/.local/lib/python3.8/site-packages (from aiohttp!=4.0.0a0,!=4.0.0a1->fsspec[http]>2021.06.0->pytorch_lightning) (22.1.0)\n",
      "Requirement already satisfied: yarl<2.0,>=1.0 in /home/skyhlar/.local/lib/python3.8/site-packages (from aiohttp!=4.0.0a0,!=4.0.0a1->fsspec[http]>2021.06.0->pytorch_lightning) (1.8.2)\n",
      "Requirement already satisfied: frozenlist>=1.1.1 in /home/skyhlar/.local/lib/python3.8/site-packages (from aiohttp!=4.0.0a0,!=4.0.0a1->fsspec[http]>2021.06.0->pytorch_lightning) (1.3.3)\n",
      "Requirement already satisfied: aiosignal>=1.1.2 in /home/skyhlar/.local/lib/python3.8/site-packages (from aiohttp!=4.0.0a0,!=4.0.0a1->fsspec[http]>2021.06.0->pytorch_lightning) (1.3.1)\n",
      "Requirement already satisfied: async-timeout<5.0,>=4.0.0a3 in /home/skyhlar/.local/lib/python3.8/site-packages (from aiohttp!=4.0.0a0,!=4.0.0a1->fsspec[http]>2021.06.0->pytorch_lightning) (4.0.2)\n",
      "Requirement already satisfied: certifi>=2017.4.17 in /usr/lib/python3/dist-packages (from requests->fsspec[http]>2021.06.0->pytorch_lightning) (2019.11.28)\n",
      "Requirement already satisfied: idna<4,>=2.5 in /usr/lib/python3/dist-packages (from requests->fsspec[http]>2021.06.0->pytorch_lightning) (2.8)\n",
      "Requirement already satisfied: urllib3<1.27,>=1.21.1 in /home/skyhlar/.local/lib/python3.8/site-packages (from requests->fsspec[http]>2021.06.0->pytorch_lightning) (1.26.13)\n",
      "Defaulting to user installation because normal site-packages is not writeable\n",
      "Requirement already satisfied: torchvision in /home/skyhlar/.local/lib/python3.8/site-packages (0.14.1)\n",
      "Requirement already satisfied: numpy in /home/skyhlar/.local/lib/python3.8/site-packages (from torchvision) (1.23.5)\n",
      "Requirement already satisfied: requests in /home/skyhlar/.local/lib/python3.8/site-packages (from torchvision) (2.28.1)\n",
      "Requirement already satisfied: pillow!=8.3.*,>=5.3.0 in /home/skyhlar/.local/lib/python3.8/site-packages (from torchvision) (9.5.0)\n",
      "Requirement already satisfied: torch==1.13.1 in /home/skyhlar/.local/lib/python3.8/site-packages (from torchvision) (1.13.1)\n",
      "Requirement already satisfied: typing-extensions in /home/skyhlar/.local/lib/python3.8/site-packages (from torchvision) (4.4.0)\n",
      "Requirement already satisfied: nvidia-cudnn-cu11==8.5.0.96 in /home/skyhlar/.local/lib/python3.8/site-packages (from torch==1.13.1->torchvision) (8.5.0.96)\n",
      "Requirement already satisfied: nvidia-cublas-cu11==11.10.3.66 in /home/skyhlar/.local/lib/python3.8/site-packages (from torch==1.13.1->torchvision) (11.10.3.66)\n",
      "Requirement already satisfied: nvidia-cuda-nvrtc-cu11==11.7.99 in /home/skyhlar/.local/lib/python3.8/site-packages (from torch==1.13.1->torchvision) (11.7.99)\n",
      "Requirement already satisfied: nvidia-cuda-runtime-cu11==11.7.99 in /home/skyhlar/.local/lib/python3.8/site-packages (from torch==1.13.1->torchvision) (11.7.99)\n",
      "Requirement already satisfied: setuptools in /home/skyhlar/.local/lib/python3.8/site-packages (from nvidia-cublas-cu11==11.10.3.66->torch==1.13.1->torchvision) (66.1.1)\n",
      "Requirement already satisfied: wheel in /usr/lib/python3/dist-packages (from nvidia-cublas-cu11==11.10.3.66->torch==1.13.1->torchvision) (0.34.2)\n",
      "Requirement already satisfied: urllib3<1.27,>=1.21.1 in /home/skyhlar/.local/lib/python3.8/site-packages (from requests->torchvision) (1.26.13)\n",
      "Requirement already satisfied: charset-normalizer<3,>=2 in /home/skyhlar/.local/lib/python3.8/site-packages (from requests->torchvision) (2.1.1)\n",
      "Requirement already satisfied: idna<4,>=2.5 in /usr/lib/python3/dist-packages (from requests->torchvision) (2.8)\n",
      "Requirement already satisfied: certifi>=2017.4.17 in /usr/lib/python3/dist-packages (from requests->torchvision) (2019.11.28)\n"
     ]
    }
   ],
   "source": [
    "!pip install pytorch_lightning\n",
    "!pip install torchvision"
   ]
  },
  {
   "cell_type": "code",
   "execution_count": 2,
   "id": "d7d62a38-1ab9-424e-96b8-ab79a2bd106c",
   "metadata": {},
   "outputs": [],
   "source": [
    "import torch\n",
    "from torch import nn, optim\n",
    "from torch.utils.data import random_split, DataLoader\n",
    "from torch.nn import functional as F\n",
    "from torchvision import transforms\n",
    "import pytorch_lightning as pl\n",
    "from torchvision.datasets import MNIST"
   ]
  },
  {
   "cell_type": "code",
   "execution_count": 3,
   "id": "5c7038b4-aee8-4cfc-aa46-d55f3d48fad7",
   "metadata": {},
   "outputs": [],
   "source": [
    "class MNISTDataModule(pl.LightningDataModule):\n",
    "    def __init__(self, data_dir='./', batch_size=64, num_workers=4):\n",
    "\n",
    "        super().__init__()\n",
    "\n",
    "        self.data_dir = data_dir\n",
    "        self.batch_size = batch_size\n",
    "        self.num_workers = num_workers\n",
    "\n",
    "        # We hardcode dataset specific stuff here.\n",
    "        self.num_classes = 10\n",
    "        self.dims = (1, 28, 28)\n",
    "        self.transform = transforms.Compose([\n",
    "            transforms.ToTensor()\n",
    "        ])\n",
    "\n",
    "    def prepare_data(self):\n",
    "        # download\n",
    "        MNIST(self.data_dir, train=True, download=True)\n",
    "        MNIST(self.data_dir, train=False, download=True)\n",
    "\n",
    "    def setup(self, stage=None):\n",
    "\n",
    "        # Assign train/val datasets for use in dataloaders\n",
    "        if stage == 'fit' or stage is None:\n",
    "            mnist_full = MNIST(self.data_dir, train=True, transform=self.transform)\n",
    "            self.mnist_train, self.mnist_val = random_split(mnist_full, [55000, 5000])\n",
    "\n",
    "        # Assign test dataset for use in dataloader(s)\n",
    "        if stage == 'test' or stage is None:\n",
    "            self.mnist_test = MNIST(self.data_dir, train=False, transform=self.transform)\n",
    "\n",
    "    def train_dataloader(self):\n",
    "        return DataLoader(self.mnist_train, batch_size=self.batch_size, num_workers=self.num_workers, pin_memory=True)\n",
    "\n",
    "    def val_dataloader(self):\n",
    "        return DataLoader(self.mnist_val, batch_size=self.batch_size, num_workers=self.num_workers)\n",
    "\n",
    "    def test_dataloader(self):\n",
    "        return DataLoader(self.mnist_test, batch_size=self.batch_size, num_workers=self.num_workers)"
   ]
  },
  {
   "cell_type": "code",
   "execution_count": null,
   "id": "2e333756-5a5b-415b-a784-7d01f8e71cb7",
   "metadata": {},
   "outputs": [],
   "source": []
  }
 ],
 "metadata": {
  "kernelspec": {
   "display_name": "Python 3 (ipykernel)",
   "language": "python",
   "name": "python3"
  },
  "language_info": {
   "codemirror_mode": {
    "name": "ipython",
    "version": 3
   },
   "file_extension": ".py",
   "mimetype": "text/x-python",
   "name": "python",
   "nbconvert_exporter": "python",
   "pygments_lexer": "ipython3",
   "version": "3.8.10"
  }
 },
 "nbformat": 4,
 "nbformat_minor": 5
}
